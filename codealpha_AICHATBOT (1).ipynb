{
 "cells": [
  {
   "cell_type": "code",
   "execution_count": 2,
   "id": "3123be8c-c1c2-498a-80df-2cab90750b0a",
   "metadata": {},
   "outputs": [
    {
     "name": "stdout",
     "output_type": "stream",
     "text": [
      "Requirement already satisfied: nltk in c:\\users\\user\\anaconda3\\lib\\site-packages (3.9.1)\n",
      "Requirement already satisfied: click in c:\\users\\user\\anaconda3\\lib\\site-packages (from nltk) (8.1.7)\n",
      "Requirement already satisfied: joblib in c:\\users\\user\\anaconda3\\lib\\site-packages (from nltk) (1.4.2)\n",
      "Requirement already satisfied: regex>=2021.8.3 in c:\\users\\user\\anaconda3\\lib\\site-packages (from nltk) (2024.9.11)\n",
      "Requirement already satisfied: tqdm in c:\\users\\user\\anaconda3\\lib\\site-packages (from nltk) (4.66.5)\n",
      "Requirement already satisfied: colorama in c:\\users\\user\\anaconda3\\lib\\site-packages (from click->nltk) (0.4.6)\n"
     ]
    }
   ],
   "source": [
    "!pip install nltk"
   ]
  },
  {
   "cell_type": "code",
   "execution_count": 4,
   "id": "d56df9f5-e143-48d8-b180-c4e39e9cf172",
   "metadata": {},
   "outputs": [
    {
     "name": "stderr",
     "output_type": "stream",
     "text": [
      "[nltk_data] Downloading package punkt to C:\\Users\\User/nltk_data...\n",
      "[nltk_data]   Package punkt is already up-to-date!\n",
      "[nltk_data] Downloading package stopwords to\n",
      "[nltk_data]     C:\\Users\\User/nltk_data...\n",
      "[nltk_data]   Package stopwords is already up-to-date!\n"
     ]
    }
   ],
   "source": [
    "import nltk\n",
    "import string\n",
    "import numpy as np\n",
    "from sklearn.feature_extraction.text import TfidfVectorizer\n",
    "from sklearn.metrics.pairwise import cosine_similarity\n",
    "\n",
    "nltk.download('punkt')\n",
    "nltk.download('stopwords')\n",
    "\n",
    "from nltk.corpus import stopwords\n",
    "from nltk.tokenize import word_tokenize"
   ]
  },
  {
   "cell_type": "code",
   "execution_count": 6,
   "id": "543afd13-1e5a-4c6d-9880-faa431e4528b",
   "metadata": {},
   "outputs": [],
   "source": [
    "def preprocess(text):\n",
    "    # Lowercase\n",
    "    text = text.lower()\n",
    "    # Remove punctuation\n",
    "    text = text.translate(str.maketrans(\"\", \"\", string.punctuation))\n",
    "    # Tokenize\n",
    "    tokens = word_tokenize(text)\n",
    "    # Remove stopwords\n",
    "    filtered_tokens = [word for word in tokens if word not in stopwords.words('english')]\n",
    "    return \" \".join(filtered_tokens)\n"
   ]
  },
  {
   "cell_type": "code",
   "execution_count": 8,
   "id": "0df32f25-0bd6-4365-bd67-7eedee0b59ed",
   "metadata": {},
   "outputs": [],
   "source": [
    "questions = [\n",
    "    \"What is Artificial Intelligence?\",\n",
    "    \"Define machine learning.\",\n",
    "    \"What is deep learning?\",\n",
    "    \"Explain supervised learning.\",\n",
    "    \"Explain unsupervised learning.\",\n",
    "    \"What is reinforcement learning?\",\n",
    "    \"What are neural networks?\",\n",
    "    \"What is natural language processing?\"\n",
    "]\n",
    "\n",
    "answers = [\n",
    "    \"Artificial Intelligence is the simulation of human intelligence in machines.\",\n",
    "    \"Machine learning is a subset of AI that enables systems to learn from data.\",\n",
    "    \"Deep learning is a type of machine learning using neural networks with many layers.\",\n",
    "    \"Supervised learning is a type of ML where the model is trained on labeled data.\",\n",
    "    \"Unsupervised learning uses unlabeled data to find hidden patterns or groupings.\",\n",
    "    \"Reinforcement learning is an area of ML where agents learn by interacting with their environment.\",\n",
    "    \"Neural networks are computing systems inspired by the human brain's network of neurons.\",\n",
    "    \"Natural language processing is a field of AI that focuses on the interaction between computers and human language.\"\n",
    "]\n"
   ]
  },
  {
   "cell_type": "code",
   "execution_count": 11,
   "id": "913590b5-4452-4663-b16c-21e9ec43bf73",
   "metadata": {},
   "outputs": [],
   "source": [
    "preprocessed_questions = [preprocess(q) for q in questions]\n",
    "\n",
    "vectorizer = TfidfVectorizer()\n",
    "X = vectorizer.fit_transform(preprocessed_questions)\n"
   ]
  },
  {
   "cell_type": "code",
   "execution_count": 13,
   "id": "f1c12363-7c02-4850-9b91-1850a2507f16",
   "metadata": {},
   "outputs": [],
   "source": [
    "def get_answer(user_input):\n",
    "    user_input_processed = preprocess(user_input)\n",
    "    user_vec = vectorizer.transform([user_input_processed])\n",
    "    similarities = cosine_similarity(user_vec, X)\n",
    "    max_sim_index = np.argmax(similarities)\n",
    "    max_score = similarities[0][max_sim_index]\n",
    "\n",
    "    if max_score < 0.3:  # Optional: set a threshold to avoid irrelevant answers\n",
    "        return \"I'm sorry, I don't understand the question.\"\n",
    "    return answers[max_sim_index]\n"
   ]
  },
  {
   "cell_type": "code",
   "execution_count": 15,
   "id": "2af17282-3d18-4b7a-abee-d4856129703a",
   "metadata": {},
   "outputs": [
    {
     "name": "stdout",
     "output_type": "stream",
     "text": [
      "Bot: Hello! Ask me a question about AI. (Type 'exit' to quit)\n"
     ]
    },
    {
     "name": "stdin",
     "output_type": "stream",
     "text": [
      "You:  What is Artificial Intelligence\n"
     ]
    },
    {
     "name": "stdout",
     "output_type": "stream",
     "text": [
      "Bot: Artificial Intelligence is the simulation of human intelligence in machines.\n"
     ]
    },
    {
     "name": "stdin",
     "output_type": "stream",
     "text": [
      "You:  exit\n"
     ]
    },
    {
     "name": "stdout",
     "output_type": "stream",
     "text": [
      "Bot: Goodbye!\n"
     ]
    }
   ],
   "source": [
    "print(\"Bot: Hello! Ask me a question about AI. (Type 'exit' to quit)\")\n",
    "\n",
    "while True:\n",
    "    user_input = input(\"You: \")\n",
    "    if user_input.lower() in [\"exit\", \"quit\"]:\n",
    "        print(\"Bot: Goodbye!\")\n",
    "        break\n",
    "    response = get_answer(user_input)\n",
    "    print(\"Bot:\", response)\n"
   ]
  },
  {
   "cell_type": "code",
   "execution_count": null,
   "id": "0366031d-3a4a-4f3f-a6c2-2b4abdbf7ee5",
   "metadata": {},
   "outputs": [],
   "source": []
  }
 ],
 "metadata": {
  "kernelspec": {
   "display_name": "Python 3 (ipykernel)",
   "language": "python",
   "name": "python3"
  },
  "language_info": {
   "codemirror_mode": {
    "name": "ipython",
    "version": 3
   },
   "file_extension": ".py",
   "mimetype": "text/x-python",
   "name": "python",
   "nbconvert_exporter": "python",
   "pygments_lexer": "ipython3",
   "version": "3.12.7"
  }
 },
 "nbformat": 4,
 "nbformat_minor": 5
}
